{
 "cells": [
  {
   "cell_type": "markdown",
   "metadata": {},
   "source": [
    "This exercise will require you to pull some data from the Qunadl API. Qaundl is currently the most widely used aggregator of financial market data."
   ]
  },
  {
   "cell_type": "markdown",
   "metadata": {},
   "source": [
    "As a first step, you will need to register a free account on the http://www.quandl.com website."
   ]
  },
  {
   "cell_type": "markdown",
   "metadata": {},
   "source": [
    "After you register, you will be provided with a unique API key, that you should store:"
   ]
  },
  {
   "cell_type": "code",
   "execution_count": null,
   "metadata": {},
   "outputs": [],
   "source": [
    "# Store the API key as a string - according to PEP8, constants are always named in all upper case\n",
    "API_KEY = ''"
   ]
  },
  {
   "cell_type": "markdown",
   "metadata": {},
   "source": [
    "Qaundl has a large number of data sources, but, unfortunately, most of them require a Premium subscription. Still, there are also a good number of free datasets."
   ]
  },
  {
   "cell_type": "markdown",
   "metadata": {},
   "source": [
    "For this mini project, we will focus on equities data from the Frankfurt Stock Exhange (FSE), which is available for free. We'll try and analyze the stock prices of a company called Carl Zeiss Meditec, which manufactures tools for eye examinations, as well as medical lasers for laser eye surgery: https://www.zeiss.com/meditec/int/home.html. The company is listed under the stock ticker AFX_X."
   ]
  },
  {
   "cell_type": "markdown",
   "metadata": {},
   "source": [
    "You can find the detailed Quandl API instructions here: https://docs.quandl.com/docs/time-series"
   ]
  },
  {
   "cell_type": "markdown",
   "metadata": {},
   "source": [
    "While there is a dedicated Python package for connecting to the Quandl API, we would prefer that you use the *requests* package, which can be easily downloaded using *pip* or *conda*. You can find the documentation for the package here: http://docs.python-requests.org/en/master/ "
   ]
  },
  {
   "cell_type": "markdown",
   "metadata": {},
   "source": [
    "Finally, apart from the *requests* package, you are encouraged to not use any third party Python packages, such as *pandas*, and instead focus on what's available in the Python Standard Library (the *collections* module might come in handy: https://pymotw.com/3/collections/ ).\n",
    "Also, since you won't have access to DataFrames, you are encouraged to us Python's native data structures - preferably dictionaries, though some questions can also be answered using lists.\n",
    "You can read more on these data structures here: https://docs.python.org/3/tutorial/datastructures.html"
   ]
  },
  {
   "cell_type": "markdown",
   "metadata": {},
   "source": [
    "Keep in mind that the JSON responses you will be getting from the API map almost one-to-one to Python's dictionaries. Unfortunately, they can be very nested, so make sure you read up on indexing dictionaries in the documentation provided above."
   ]
  },
  {
   "cell_type": "code",
   "execution_count": 2,
   "metadata": {},
   "outputs": [],
   "source": [
    "# First, import the relevant modules\n",
    "\n",
    "import requests"
   ]
  },
  {
   "cell_type": "code",
   "execution_count": 3,
   "metadata": {},
   "outputs": [
    {
     "name": "stdout",
     "output_type": "stream",
     "text": [
      "200\n"
     ]
    }
   ],
   "source": [
    "# Now, call the Quandl API and pull out a small sample of the data (only one day) to get a glimpse\n",
    "# into the JSON structure that will be returned\n",
    "stock_exchange = 'FSE'\n",
    "stock_ticker = 'AFX_X'\n",
    "return_format = 'json'\n",
    "start_date = '2020-06-15'\n",
    "end_date = '2020-06-16'\n",
    "parameters = {'start_date':start_date, 'end_date':end_date}\n",
    "\n",
    "url = f\"https://data.nasdaq.com/api/v3/datasets/{stock_exchange}/{stock_ticker}/data.{return_format}\"\n",
    "\n",
    "res = requests.get(url, parameters)\n",
    "print(res.status_code)"
   ]
  },
  {
   "cell_type": "code",
   "execution_count": 4,
   "metadata": {},
   "outputs": [
    {
     "name": "stdout",
     "output_type": "stream",
     "text": [
      "{'dataset_data': {'limit': None, 'transform': None, 'column_index': None, 'column_names': ['Date', 'Open', 'High', 'Low', 'Close', 'Change', 'Traded Volume', 'Turnover', 'Last Price of the Day', 'Daily Traded Units', 'Daily Turnover'], 'start_date': '2020-06-15', 'end_date': '2020-06-16', 'frequency': 'daily', 'data': [['2020-06-16', 88.35, 90.75, 87.45, 90.65, None, 206243.0, 18478591.35, None, None, None], ['2020-06-15', 85.0, 86.9, 84.75, 86.35, None, 181008.0, 15502164.95, None, None, None]], 'collapse': None, 'order': None}}\n"
     ]
    }
   ],
   "source": [
    "# Inspect the JSON structure of the object you created, and take note of how nested it is,\n",
    "# as well as the overall structure\n",
    "response = res.json()\n",
    "print(response)"
   ]
  },
  {
   "cell_type": "markdown",
   "metadata": {},
   "source": [
    "## These are your tasks for this mini project:\n",
    "\n",
    "1. [Collect data from the Franfurt Stock Exchange, for the ticker AFX_X, for the whole year 2017 (keep in mind that the date format is YYYY-MM-DD).](#1)\n",
    "2. [Convert the returned JSON object into a Python dictionary.](#2)\n",
    "3. [Calculate what the highest and lowest opening prices were for the stock in this period.](#3)\n",
    "4. [What was the largest change in any one day (based on High and Low price)?](#4)\n",
    "5. [What was the largest change between any two days (based on Closing Price)?](#5)\n",
    "6. [What was the average daily trading volume during this year?](#6)\n",
    "7. [(Optional) What was the median trading volume during this year. (Note: you may need to implement your own function for calculating the median.)](#7)"
   ]
  },
  {
   "cell_type": "markdown",
   "metadata": {},
   "source": [
    "<a name = '1'></a>\n",
    "\n",
    "\n",
    "<em>Collect data from the Franfurt Stock Exchange, for the ticker AFX_X, for the whole year 2017 (keep in mind that the date format is YYYY-MM-DD).</em>"
   ]
  },
  {
   "cell_type": "code",
   "execution_count": 5,
   "metadata": {},
   "outputs": [
    {
     "name": "stdout",
     "output_type": "stream",
     "text": [
      "200\n"
     ]
    }
   ],
   "source": [
    "stock_exchange = 'FSE'\n",
    "stock_ticker = 'AFX_X'\n",
    "return_format = 'json'\n",
    "start_date = '2017-01-01'\n",
    "end_date = '2018-01-01'\n",
    "parameters = {'start_date':start_date, 'end_date':end_date}\n",
    "\n",
    "url = f\"https://data.nasdaq.com/api/v3/datasets/{stock_exchange}/{stock_ticker}/data.{return_format}\"\n",
    "\n",
    "res = requests.get(url, parameters)\n",
    "print(res.status_code)"
   ]
  },
  {
   "cell_type": "markdown",
   "metadata": {},
   "source": [
    "<a name = '2'></a>\n",
    "\n",
    "<em>Convert the returned JSON object into a Python dictionary.</em>"
   ]
  },
  {
   "cell_type": "code",
   "execution_count": 6,
   "metadata": {},
   "outputs": [
    {
     "name": "stdout",
     "output_type": "stream",
     "text": [
      "dict_keys(['limit', 'transform', 'column_index', 'column_names', 'start_date', 'end_date', 'frequency', 'data', 'collapse', 'order'])\n"
     ]
    }
   ],
   "source": [
    "json_file = res.json()\n",
    "print(json_file['dataset_data'].keys())"
   ]
  },
  {
   "cell_type": "markdown",
   "metadata": {},
   "source": [
    "<a name = '3'></a>\n",
    "\n",
    "<em>Calculate what the highest and lowest opening prices were for the stock in this period.</em>"
   ]
  },
  {
   "cell_type": "code",
   "execution_count": 7,
   "metadata": {},
   "outputs": [
    {
     "name": "stdout",
     "output_type": "stream",
     "text": [
      "['Date', 'Open', 'High', 'Low', 'Close', 'Change', 'Traded Volume', 'Turnover', 'Last Price of the Day', 'Daily Traded Units', 'Daily Turnover']\n"
     ]
    }
   ],
   "source": [
    "# Get the index of open price in data lists:\n",
    "print(json_file['dataset_data']['column_names'])"
   ]
  },
  {
   "cell_type": "code",
   "execution_count": 8,
   "metadata": {},
   "outputs": [
    {
     "name": "stdout",
     "output_type": "stream",
     "text": [
      "The highest opening price in 2017 was $53.11\n",
      "The lowest opening price in 2017 was $34.0\n"
     ]
    }
   ],
   "source": [
    "highest_op = json_file['dataset_data']['data'][0][1]\n",
    "lowest_op = json_file['dataset_data']['data'][0][1]\n",
    "\n",
    "for day in json_file['dataset_data']['data']:\n",
    "    if day[1]:\n",
    "        highest_op = max(highest_op, day[1])\n",
    "        lowest_op = min(lowest_op, day[1])\n",
    "\n",
    "print(f'The highest opening price in 2017 was ${highest_op}')\n",
    "print(f'The lowest opening price in 2017 was ${lowest_op}')"
   ]
  },
  {
   "cell_type": "markdown",
   "metadata": {},
   "source": [
    "<a name = '4'></a>\n",
    "\n",
    "<em>What was the largest change in any one day (based on High and Low price)?</em>"
   ]
  },
  {
   "cell_type": "code",
   "execution_count": 9,
   "metadata": {},
   "outputs": [
    {
     "name": "stdout",
     "output_type": "stream",
     "text": [
      "The largest change in any one day in 2017 was $2.81\n"
     ]
    }
   ],
   "source": [
    "largest_change = 0\n",
    "\n",
    "for day in json_file['dataset_data']['data']:\n",
    "    change = abs(day[2] - day[3])\n",
    "    if change:\n",
    "        largest_change = max(largest_change, change)\n",
    "\n",
    "\n",
    "print(f'The largest change in any one day in 2017 was ${round(largest_change,2)}')"
   ]
  },
  {
   "cell_type": "markdown",
   "metadata": {},
   "source": [
    "<a name = '5'></a>\n",
    "\n",
    "<em>What was the largest change between any two days (based on Closing Price)?</em>"
   ]
  },
  {
   "cell_type": "code",
   "execution_count": 10,
   "metadata": {},
   "outputs": [
    {
     "name": "stdout",
     "output_type": "stream",
     "text": [
      "The largest change between any two days is $2.56\n"
     ]
    }
   ],
   "source": [
    "largest_2day_change = 0\n",
    "last_day_close = json_file['dataset_data']['data'][0][4]\n",
    "\n",
    "for day in json_file['dataset_data']['data']:\n",
    "    change = abs(day[4] - last_day_close)\n",
    "    largest_2day_change = max(largest_2day_change, change)    \n",
    "    last_day_close = day[4]\n",
    "\n",
    "print(f'The largest change between any two days is ${round(largest_2day_change,2)}')"
   ]
  },
  {
   "cell_type": "markdown",
   "metadata": {},
   "source": [
    "<a name = '6'></a>\n",
    "\n",
    "<em>What was the average daily trading volume during this year?</em>"
   ]
  },
  {
   "cell_type": "code",
   "execution_count": 11,
   "metadata": {},
   "outputs": [
    {
     "name": "stdout",
     "output_type": "stream",
     "text": [
      "Average daily trading volume during 2017 was $89124.34\n"
     ]
    }
   ],
   "source": [
    "s = 0\n",
    "\n",
    "for day in json_file['dataset_data']['data']:\n",
    "    s += day[6]\n",
    "\n",
    "av_tr_vol = round(s/len(json_file['dataset_data']['data']),2)\n",
    "print(f'Average daily trading volume during 2017 was ${av_tr_vol}')"
   ]
  },
  {
   "cell_type": "markdown",
   "metadata": {},
   "source": [
    "<a name = '7'></a>\n",
    "\n",
    "<em>(Optional) What was the median trading volume during this year. (Note: you may need to implement your own function for calculating the median.)</em>"
   ]
  },
  {
   "cell_type": "code",
   "execution_count": 12,
   "metadata": {},
   "outputs": [
    {
     "name": "stdout",
     "output_type": "stream",
     "text": [
      "The median trading volume during this year was $76286.0\n"
     ]
    }
   ],
   "source": [
    "tr_vol = []\n",
    "for day in json_file['dataset_data']['data']:\n",
    "    tr_vol.append(day[6])\n",
    "tr_vol.sort()\n",
    "ind = int(len(tr_vol)/2)\n",
    "print(f'The median trading volume during this year was ${tr_vol[ind]}')"
   ]
  },
  {
   "cell_type": "code",
   "execution_count": null,
   "metadata": {},
   "outputs": [],
   "source": []
  }
 ],
 "metadata": {
  "kernelspec": {
   "display_name": "Python 3",
   "language": "python",
   "name": "python3"
  },
  "language_info": {
   "codemirror_mode": {
    "name": "ipython",
    "version": 3
   },
   "file_extension": ".py",
   "mimetype": "text/x-python",
   "name": "python",
   "nbconvert_exporter": "python",
   "pygments_lexer": "ipython3",
   "version": "3.7.3"
  }
 },
 "nbformat": 4,
 "nbformat_minor": 4
}
